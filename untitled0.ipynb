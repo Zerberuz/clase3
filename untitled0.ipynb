{
  "nbformat": 4,
  "nbformat_minor": 0,
  "metadata": {
    "colab": {
      "provenance": [],
      "authorship_tag": "ABX9TyP6hOrjBejuCcbaN31G4vkU",
      "include_colab_link": true
    },
    "kernelspec": {
      "name": "python3",
      "display_name": "Python 3"
    },
    "language_info": {
      "name": "python"
    }
  },
  "cells": [
    {
      "cell_type": "markdown",
      "metadata": {
        "id": "view-in-github",
        "colab_type": "text"
      },
      "source": [
        "<a href=\"https://colab.research.google.com/github/Zerberuz/clase3/blob/main/untitled0.ipynb\" target=\"_parent\"><img src=\"https://colab.research.google.com/assets/colab-badge.svg\" alt=\"Open In Colab\"/></a>"
      ]
    },
    {
      "cell_type": "code",
      "execution_count": null,
      "metadata": {
        "colab": {
          "base_uri": "https://localhost:8080/"
        },
        "id": "swSKN8P4T3Tn",
        "outputId": "ca324d72-1c25-44c8-993b-1d517305294d"
      },
      "outputs": [
        {
          "output_type": "stream",
          "name": "stdout",
          "text": [
            "Por favor, ingresa tu nombre: Juan\n",
            "Ahora ingresa tu apellido: Reyes\n",
            "Ingresa el nombre de tu barrio: Cesario\n",
            "Finalmente, ingresa el nombre de tu ciudad: Cali\n",
            "Hola, Juan Reyes, bienvenido/a a Cesario, Cali!\n"
          ]
        }
      ],
      "source": [
        "#Funcion para solicitar informacion y mandar mensaje de bienvenida\n",
        "def solicitar_informacion():\n",
        "    nombre = input(\"Por favor, ingresa tu nombre: \")\n",
        "\n",
        "    apellido = input(\"Ahora ingresa tu apellido: \")\n",
        "\n",
        "    barrio = input(\"Ingresa el nombre de tu barrio: \")\n",
        "\n",
        "    ciudad = input(\"Finalmente, ingresa el nombre de tu ciudad: \")\n",
        "\n",
        "    print(\"Hola,\", nombre, apellido + \", bienvenido/a a\", barrio + \",\", ciudad + \"!\")\n",
        "\n",
        "solicitar_informacion()\n"
      ]
    },
    {
      "cell_type": "code",
      "source": [],
      "metadata": {
        "id": "BaXl8UZScj3V"
      },
      "execution_count": null,
      "outputs": []
    },
    {
      "cell_type": "code",
      "source": [
        "def sumar_numeros():\n",
        " a = input(\"ingrese primer numero\")\n",
        " b = input(\"ingrese otro numero\")\n",
        " c = a + b\n",
        " print (\"la suma de\", a, \"y\", b, \"es:\", c)\n",
        "\n",
        "# Llamar a la función para sumar números\n",
        "sumar_numeros()"
      ],
      "metadata": {
        "colab": {
          "base_uri": "https://localhost:8080/"
        },
        "id": "dXXLMqW_VOtg",
        "outputId": "3ab21ae4-abf3-4336-c4e9-7f72f75c5e68"
      },
      "execution_count": null,
      "outputs": [
        {
          "output_type": "stream",
          "name": "stdout",
          "text": [
            "ingrese primer numero1\n",
            "ingrese otro numero1\n",
            "la suma de 1 y 1 es: 11\n"
          ]
        }
      ]
    },
    {
      "cell_type": "code",
      "source": [],
      "metadata": {
        "id": "xjJuBLmgYYlU"
      },
      "execution_count": null,
      "outputs": []
    }
  ]
}